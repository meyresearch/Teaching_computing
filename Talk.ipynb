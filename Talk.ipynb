{
 "cells": [
  {
   "cell_type": "code",
   "execution_count": null,
   "metadata": {
    "slideshow": {
     "slide_type": "skip"
    }
   },
   "outputs": [],
   "source": [
    "## Imports:\n",
    "import pandas as pd\n",
    "%pylab inline\n",
    "import seaborn as sbn\n",
    "import scipy"
   ]
  },
  {
   "cell_type": "markdown",
   "metadata": {
    "slideshow": {
     "slide_type": "slide"
    }
   },
   "source": [
    "![](images/Teaching_computing.001.jpeg)"
   ]
  },
  {
   "cell_type": "markdown",
   "metadata": {
    "slideshow": {
     "slide_type": "skip"
    }
   },
   "source": [
    "<a rel=\"license\" href=\"http://creativecommons.org/licenses/by/4.0/\"><img alt=\"Creative Commons Licence\" style=\"border-width:0\" src=\"https://i.creativecommons.org/l/by/4.0/88x31.png\" title='This work is licensed under a Creative Commons Attribution 4.0 International License.' align=\"right\"/></a>\n",
    "\n",
    "This is an interactive notebook to illustrate ideas to make scientific computing more engaging.  \n",
    "\n",
    "\n",
    "Key points:   \n",
    "- Starting with a more complex idea can be more motivating\n",
    "- Live coding is a helpful tool to deliver programming content\n",
    "- Teach concepts as they are needed\n",
    "- Avoid too many baby steps\n",
    "   \n",
    "   \n"
   ]
  },
  {
   "cell_type": "markdown",
   "metadata": {
    "slideshow": {
     "slide_type": "skip"
    }
   },
   "source": [
    "*Notebook cheats:*   \n",
    "To run the currently highlighted cell by holding <kbd>&#x21E7; Shift</kbd> and press <kbd>&#x23ce; Enter</kbd>;\n",
    "\n",
    "To advance the slide show use <kbd>Space</kbd>"
   ]
  },
  {
   "cell_type": "markdown",
   "metadata": {
    "slideshow": {
     "slide_type": "slide"
    }
   },
   "source": [
    "![](images/Teaching_computing.002.jpeg)"
   ]
  },
  {
   "cell_type": "markdown",
   "metadata": {
    "slideshow": {
     "slide_type": "slide"
    }
   },
   "source": [
    "## Getting ready for the expedition to get to treasure\n",
    "<table><tr>\n",
    "<td> <img src=\"images/treasure.png\" alt=\"Drawing\" style=\"width: 400px;\"/> </td>\n",
    "<td> <img src=\"images/expedition.png\" alt=\"Drawing\" style=\"width: 400px;\"/> </td>\n",
    "</tr></table>"
   ]
  },
  {
   "cell_type": "markdown",
   "metadata": {
    "slideshow": {
     "slide_type": "subslide"
    }
   },
   "source": [
    "## Then you finally reach treasure...\n",
    "\n",
    "![](images/treasure0.png)"
   ]
  },
  {
   "cell_type": "markdown",
   "metadata": {
    "slideshow": {
     "slide_type": "subslide"
    }
   },
   "source": [
    "## The great dissapointment happens because....\n",
    "![](images/treasure1.png)"
   ]
  },
  {
   "cell_type": "markdown",
   "metadata": {
    "slideshow": {
     "slide_type": "slide"
    }
   },
   "source": [
    "## Exploring ideas for keeping students engaged\n"
   ]
  },
  {
   "cell_type": "markdown",
   "metadata": {
    "slideshow": {
     "slide_type": "subslide"
    }
   },
   "source": [
    "#### How\n",
    "1. Incentivise through glimpses at the treasures\n",
    "2. Using timely teaching environment\n",
    "3. Chose delivery methods wisely\n",
    "4. Use of formative assessment through in class exercises\n",
    "5. Give good motivations for new concepts!"
   ]
  },
  {
   "cell_type": "markdown",
   "metadata": {
    "slideshow": {
     "slide_type": "subslide"
    }
   },
   "source": [
    "#### What\n",
    " 1. Stay in the STEM context to help with motivation\n",
    " 2. Teach reproducibility and best practices as you go along"
   ]
  },
  {
   "cell_type": "markdown",
   "metadata": {
    "slideshow": {
     "slide_type": "slide"
    }
   },
   "source": [
    "![](images/Teaching_computing.003.jpeg)"
   ]
  },
  {
   "cell_type": "markdown",
   "metadata": {
    "slideshow": {
     "slide_type": "slide"
    }
   },
   "source": [
    "## Which of the following instructions would be more motivating on day one?"
   ]
  },
  {
   "cell_type": "markdown",
   "metadata": {
    "slideshow": {
     "slide_type": "slide"
    }
   },
   "source": [
    "![](images/Teaching_computing.005.jpeg)"
   ]
  },
  {
   "cell_type": "markdown",
   "metadata": {
    "slideshow": {
     "slide_type": "slide"
    }
   },
   "source": [
    "## What is a more appealing first lesson overview to a diverse set of students?"
   ]
  },
  {
   "cell_type": "markdown",
   "metadata": {
    "slideshow": {
     "slide_type": "slide"
    }
   },
   "source": [
    "![](images/Teaching_computing.007.jpeg)"
   ]
  },
  {
   "cell_type": "code",
   "execution_count": null,
   "metadata": {
    "slideshow": {
     "slide_type": "slide"
    }
   },
   "outputs": [],
   "source": [
    "# reading data\n",
    "data = pd.read_csv('data/gravity.csv',sep=' ')\n",
    "# plotting data\n",
    "sbn.distplot(data['Student1'], label = 'Student 1', norm_hist=True)\n",
    "sbn.distplot(data['Student2'], label = 'Student 2', norm_hist=True)\n",
    "plt.plot(np.ones(2)*9.81,[0,1.9], '--', color='black', alpha=0.5, label='Actual g')\n",
    "sbn.despine()\n",
    "# plot Formatting\n",
    "plt.xlabel('Estimate of g')\n",
    "plt.ylabel('Density')  \n",
    "plt.legend()"
   ]
  },
  {
   "cell_type": "markdown",
   "metadata": {
    "slideshow": {
     "slide_type": "slide"
    }
   },
   "source": [
    "## What approach is easier to follow for new complex concepts?"
   ]
  },
  {
   "cell_type": "markdown",
   "metadata": {
    "slideshow": {
     "slide_type": "slide"
    }
   },
   "source": [
    "![](images/Teaching_computing.008.jpeg)"
   ]
  },
  {
   "cell_type": "markdown",
   "metadata": {
    "slideshow": {
     "slide_type": "slide"
    }
   },
   "source": [
    "### Live coding"
   ]
  },
  {
   "cell_type": "code",
   "execution_count": null,
   "metadata": {
    "slideshow": {
     "slide_type": "fragment"
    }
   },
   "outputs": [],
   "source": [
    "# load the thrombin.csv file\n",
    "data = np.loadtxt('data/thrombin.csv')\n",
    "# plot time thrombin data\n",
    "#Fixme\n",
    "\n",
    "# compute correlation\n",
    "r,p = scipy.stats.#Fixme\n",
    "#print(\"The correlation is %.2f\"%r)"
   ]
  },
  {
   "cell_type": "markdown",
   "metadata": {
    "slideshow": {
     "slide_type": "slide"
    }
   },
   "source": [
    "### How can understanding amongst learners be assessed in a motivating way?"
   ]
  },
  {
   "cell_type": "markdown",
   "metadata": {
    "slideshow": {
     "slide_type": "slide"
    }
   },
   "source": [
    "![](images/Teaching_computing.009.jpeg)"
   ]
  },
  {
   "cell_type": "markdown",
   "metadata": {
    "slideshow": {
     "slide_type": "slide"
    }
   },
   "source": [
    "## Check your understanding and use Tophat to indicate your answer\n",
    "Q. Suppose you have a dataset that consists of 4 columns in a variable called data, how do you plot the first and second column against each other? Try the different options in your notebook if you are unsure.\n",
    "\n",
    "1. `plt.plot(data[:,1], data[:,2])`\n",
    "2. `plt.plot(data[0,:], data[1,:])`\n",
    "3. `plt.plot(data[:,0], data[:,1])`\n",
    "4. `plot.plt(data[:,0], data[:,1])`\n",
    "\n",
    "⚠️ Use your red sticker if you get stuck, so that one of the tutors can help you."
   ]
  },
  {
   "cell_type": "markdown",
   "metadata": {
    "slideshow": {
     "slide_type": "slide"
    }
   },
   "source": [
    "## Explore concepts without the necessity for any coding: Birge-Sponer in vibrational spectroscopy\n",
    "Birge-Sponer plot allow you to estimate an upper bound for discosiation energies from virbtational transitions. \n",
    "![](images/dissociation.png)"
   ]
  },
  {
   "cell_type": "markdown",
   "metadata": {
    "slideshow": {
     "slide_type": "slide"
    }
   },
   "source": [
    "#### Adding data\n",
    "You can add a set of vibrational transition wave numbers and their corresponding vibrational quantum numbers in the two cells below. An example for HgH would look like this:   \n",
    "Observed transitions in cm$^{-1}$: 1203.7, 965.6, 632.4, 172    \n",
    "Vibrational quantum numbers: 0.5, 1.5, 2.5, 3.5"
   ]
  },
  {
   "cell_type": "code",
   "execution_count": null,
   "metadata": {
    "slideshow": {
     "slide_type": "fragment"
    }
   },
   "outputs": [],
   "source": [
    "import Helper\n",
    "data = Helper.data_input()\n",
    "display(data)"
   ]
  },
  {
   "cell_type": "markdown",
   "metadata": {
    "slideshow": {
     "slide_type": "subslide"
    }
   },
   "source": [
    "The data will be read by the program and then plotted against each other, when you execute the next cell. "
   ]
  },
  {
   "cell_type": "code",
   "execution_count": null,
   "metadata": {
    "slideshow": {
     "slide_type": "subslide"
    }
   },
   "outputs": [],
   "source": [
    "Helper.plot_birge_sponer(data)"
   ]
  },
  {
   "cell_type": "markdown",
   "metadata": {
    "slideshow": {
     "slide_type": "slide"
    }
   },
   "source": [
    "#### Extrapolating the data\n",
    "Now in order to be able to compute the dissociation constant we need to extrapolate the line until it crosses the y-axis at x=0 and the x axis at y=0.   \n",
    "The plot below has done this automatically. The Helper module uses a linear regression fit called `linregress` as implemented in `scipy`. "
   ]
  },
  {
   "cell_type": "code",
   "execution_count": null,
   "metadata": {
    "slideshow": {
     "slide_type": "fragment"
    }
   },
   "outputs": [],
   "source": [
    "Helper.plot_extrapolated_birge_sponer(data)"
   ]
  },
  {
   "cell_type": "markdown",
   "metadata": {
    "slideshow": {
     "slide_type": "slide"
    }
   },
   "source": [
    "#### Computing the area under the curve\n",
    "You can see, that the dashed orange line is the extrapolated curve to where the extrapolation is required. \n",
    "You could now try and read the numbers of the graph, or just compute the area under the curve, which in this case is a right-angle triangle. \n",
    "\n",
    "Remember the area of a triangle is given by:\n",
    "$A = \\frac{1}{2}ab$,    \n",
    "where a, in this case, is the side of the y-axis and b is the side of the x-axis. \n",
    "Again there is a convenient helper function that will take the data from the curve and compute the area, and conveniently display this result. "
   ]
  },
  {
   "cell_type": "code",
   "execution_count": null,
   "metadata": {
    "slideshow": {
     "slide_type": "subslide"
    }
   },
   "outputs": [],
   "source": [
    "Helper.compute_area_under_graph(data)"
   ]
  },
  {
   "cell_type": "markdown",
   "metadata": {
    "slideshow": {
     "slide_type": "slide"
    }
   },
   "source": [
    "**Check your understanding**:\n",
    "How is the dissociation energy computed from the wave number that is estimated by the area under the curve?\n",
    "Try it yourself and see if you get the same answer as below. "
   ]
  },
  {
   "cell_type": "code",
   "execution_count": null,
   "metadata": {
    "slideshow": {
     "slide_type": "fragment"
    }
   },
   "outputs": [],
   "source": [
    "Helper.compute_dissociation_energy(data)"
   ]
  },
  {
   "cell_type": "markdown",
   "metadata": {
    "slideshow": {
     "slide_type": "fragment"
    }
   },
   "source": [
    "⚠️ **Use your green sticker if you got to the same answer, or your red one if you got stuck!**"
   ]
  },
  {
   "cell_type": "markdown",
   "metadata": {
    "slideshow": {
     "slide_type": "slide"
    }
   },
   "source": [
    "## 5 Approaches to help with motivation:\n",
    "1. Show treasures at the start!\n",
    "2. Hide complexity where necessary\n",
    "3. Motivate new concepts with appropriate STEM related examples\n",
    "4. Make use of the Ecosystem, such as interactive Jupyter notebooks\n",
    "5. Use frequent formative assessment and feedback\n"
   ]
  },
  {
   "cell_type": "markdown",
   "metadata": {
    "slideshow": {
     "slide_type": "subslide"
    }
   },
   "source": [
    "\n",
    "<centre><h2>Thank you for your attention!</h2></centre>    \n",
    "\n",
    "<centre><h2>I am happy to take any questions!</h2></centre>"
   ]
  },
  {
   "cell_type": "markdown",
   "metadata": {
    "slideshow": {
     "slide_type": "skip"
    }
   },
   "source": [
    "## Data generation for some parts of the notebook"
   ]
  },
  {
   "cell_type": "code",
   "execution_count": null,
   "metadata": {
    "slideshow": {
     "slide_type": "skip"
    }
   },
   "outputs": [],
   "source": [
    "g1 = np.random.normal(9.81,0.2, 50)\n",
    "g2 = np.random.normal(9.2,0.6, 50)\n",
    "g3 = np.random.normal(9.89, 0.2, 50)\n",
    "np.savetxt('gravity.csv', np.column_stack((g1,g2,g3)))"
   ]
  },
  {
   "cell_type": "code",
   "execution_count": null,
   "metadata": {
    "slideshow": {
     "slide_type": "skip"
    }
   },
   "outputs": [],
   "source": []
  }
 ],
 "metadata": {
  "celltoolbar": "Slideshow",
  "kernelspec": {
   "display_name": "Python 3",
   "language": "python",
   "name": "python3"
  },
  "language_info": {
   "codemirror_mode": {
    "name": "ipython",
    "version": 3
   },
   "file_extension": ".py",
   "mimetype": "text/x-python",
   "name": "python",
   "nbconvert_exporter": "python",
   "pygments_lexer": "ipython3",
   "version": "3.7.6"
  }
 },
 "nbformat": 4,
 "nbformat_minor": 4
}
