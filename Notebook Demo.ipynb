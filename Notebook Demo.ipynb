{
 "cells": [
  {
   "cell_type": "code",
   "execution_count": 23,
   "metadata": {
    "slideshow": {
     "slide_type": "skip"
    }
   },
   "outputs": [
    {
     "name": "stdout",
     "output_type": "stream",
     "text": [
      "Populating the interactive namespace from numpy and matplotlib\n"
     ]
    }
   ],
   "source": [
    "## Imports:\n",
    "import pandas as pd\n",
    "%pylab inline\n",
    "import seaborn as sbn\n",
    "import scipy"
   ]
  },
  {
   "cell_type": "markdown",
   "metadata": {
    "slideshow": {
     "slide_type": "slide"
    }
   },
   "source": [
    "![](images/Teaching_computing.001.jpeg)"
   ]
  },
  {
   "cell_type": "markdown",
   "metadata": {
    "slideshow": {
     "slide_type": "subslide"
    }
   },
   "source": [
    "<a rel=\"license\" href=\"http://creativecommons.org/licenses/by/4.0/\"><img alt=\"Creative Commons Licence\" style=\"border-width:0\" src=\"https://i.creativecommons.org/l/by/4.0/88x31.png\" title='This work is licensed under a Creative Commons Attribution 4.0 International License.' align=\"right\"/></a>\n",
    "\n",
    "This is an interactive notebook to illustrate ideas to make scientific computing more engaging.  \n",
    "\n",
    "\n",
    "Key points:   \n",
    "- Starting with a more complex idea can be more motivating\n",
    "- Live coding is a helpful tool to deliver programming content\n",
    "- Teach concepts as they are needed\n",
    "- Avoid too many baby steps\n",
    "   \n",
    "   \n"
   ]
  },
  {
   "cell_type": "markdown",
   "metadata": {
    "slideshow": {
     "slide_type": "subslide"
    }
   },
   "source": [
    "*Notebook cheats:*   \n",
    "To run the currently highlighted cell by holding <kbd>&#x21E7; Shift</kbd> and press <kbd>&#x23ce; Enter</kbd>;\n",
    "\n",
    "To advance the slide show use <kbd>Space</kbd>"
   ]
  },
  {
   "cell_type": "markdown",
   "metadata": {
    "slideshow": {
     "slide_type": "slide"
    }
   },
   "source": [
    "![](images/Teaching_computing.002.jpeg)"
   ]
  },
  {
   "cell_type": "markdown",
   "metadata": {
    "slideshow": {
     "slide_type": "slide"
    }
   },
   "source": [
    "## Exploring ideas for keeping students engaged\n"
   ]
  },
  {
   "cell_type": "markdown",
   "metadata": {
    "slideshow": {
     "slide_type": "subslide"
    }
   },
   "source": [
    "#### How\n",
    "1. Using a timely teaching environment\n",
    "2. Incentivise through glimpses at the treasures\n",
    "3. Chose delivery methods wisely\n",
    "4. Hide complexity\n",
    "5. Use of formative assessment through in class exercises"
   ]
  },
  {
   "cell_type": "markdown",
   "metadata": {
    "slideshow": {
     "slide_type": "subslide"
    }
   },
   "source": [
    "#### What\n",
    " 1. Stay in the STEM context to help with motivation\n",
    " 2. Teach reproducibility and best practices as you go along"
   ]
  },
  {
   "cell_type": "markdown",
   "metadata": {
    "slideshow": {
     "slide_type": "slide"
    }
   },
   "source": [
    "![](images/Teaching_computing.003.jpeg)"
   ]
  },
  {
   "cell_type": "markdown",
   "metadata": {
    "slideshow": {
     "slide_type": "slide"
    }
   },
   "source": [
    "## Which of the following instructions would be more motivating on day one?"
   ]
  },
  {
   "cell_type": "markdown",
   "metadata": {
    "slideshow": {
     "slide_type": "slide"
    }
   },
   "source": [
    "![](images/Teaching_computing.005.jpeg)"
   ]
  },
  {
   "cell_type": "markdown",
   "metadata": {
    "slideshow": {
     "slide_type": "slide"
    }
   },
   "source": [
    "## What is a more appealing first lesson overview to a diverse set of students?"
   ]
  },
  {
   "cell_type": "markdown",
   "metadata": {
    "slideshow": {
     "slide_type": "slide"
    }
   },
   "source": [
    "![](images/Teaching_computing.007.jpeg)"
   ]
  },
  {
   "cell_type": "code",
   "execution_count": 45,
   "metadata": {
    "slideshow": {
     "slide_type": "slide"
    }
   },
   "outputs": [
    {
     "data": {
      "text/plain": [
       "<matplotlib.legend.Legend at 0x126658d50>"
      ]
     },
     "execution_count": 45,
     "metadata": {},
     "output_type": "execute_result"
    },
    {
     "data": {
      "image/png": "[encoded data removed]",
      "text/plain": [
       "<Figure size 432x288 with 1 Axes>"
      ]
     },
     "metadata": {
      "needs_background": "light"
     },
     "output_type": "display_data"
    }
   ],
   "source": [
    "# reading data\n",
    "data = pd.read_csv('data/gravity.csv',sep=' ')\n",
    "# plotting data\n",
    "sbn.distplot(data['Student1'], label = 'Student 1', norm_hist=True)\n",
    "sbn.distplot(data['Student2'], label = 'Student 2', norm_hist=True)\n",
    "plt.plot(np.ones(2)*9.81,[0,1.9], '--', color='black', alpha=0.5, label='Actual g')\n",
    "sbn.despine()\n",
    "# plot Formatting\n",
    "plt.xlabel('Estimate of g')\n",
    "plt.ylabel('Density')  \n",
    "plt.legend()"
   ]
  },
  {
   "cell_type": "markdown",
   "metadata": {
    "slideshow": {
     "slide_type": "slide"
    }
   },
   "source": [
    "## What approach is easier to follow for new complex concepts?"
   ]
  },
  {
   "cell_type": "markdown",
   "metadata": {
    "slideshow": {
     "slide_type": "slide"
    }
   },
   "source": [
    "![](images/Teaching_computing.008.jpeg)"
   ]
  },
  {
   "cell_type": "markdown",
   "metadata": {
    "slideshow": {
     "slide_type": "slide"
    }
   },
   "source": [
    "### Live coding"
   ]
  },
  {
   "cell_type": "code",
   "execution_count": 38,
   "metadata": {
    "slideshow": {
     "slide_type": "fragment"
    }
   },
   "outputs": [
    {
     "name": "stdout",
     "output_type": "stream",
     "text": [
      "The correlation is 0.9058204403922184\n"
     ]
    },
    {
     "data": {
      "image/png": "[encoded data removed]",
      "text/plain": [
       "<Figure size 432x288 with 1 Axes>"
      ]
     },
     "metadata": {
      "needs_background": "light"
     },
     "output_type": "display_data"
    }
   ],
   "source": [
    "# load the thrombin.csv file\n",
    "data = np.loadtxt('data/thrombin.csv')\n",
    "# plot time thrombin data\n",
    "plt.scatter(data[:,0], data[:,1])\n",
    "plt.xlabel(r'$\\Delta G$ in kcal/mol')\n",
    "plt.ylabel(r'$\\Delta G$ in kcal/mol')\n",
    "# compute correlation\n",
    "r,p = scipy.stats.pearsonr(data[:,0],data[:,1])\n",
    "print(\"The correlation is %s\"%r)"
   ]
  },
  {
   "cell_type": "markdown",
   "metadata": {
    "slideshow": {
     "slide_type": "slide"
    }
   },
   "source": [
    "### How can understanding amongst learners be assessed in a motivating way?"
   ]
  },
  {
   "cell_type": "markdown",
   "metadata": {
    "slideshow": {
     "slide_type": "slide"
    }
   },
   "source": [
    "![](images/Teaching_computing.009.jpeg)"
   ]
  },
  {
   "cell_type": "markdown",
   "metadata": {
    "slideshow": {
     "slide_type": "slide"
    }
   },
   "source": [
    "## Check your understanding and use Tophat to indicate your answer\n",
    "Q. Suppose you have a dataset that consists of 4 columns in a variable called data, how do you plot the first and second column against each other? Try the different options in your notebook if you are unsure.\n",
    "\n",
    "1. `plt.plot(data[:,1], data[:,2])`\n",
    "2. `plt.plot(data[0,:], data[1,:])`\n",
    "3. `plt.plot(data[:,0], data[:,1])`\n",
    "4. `plot.plt(data[:,0], data[:,1])`"
   ]
  },
  {
   "cell_type": "markdown",
   "metadata": {
    "slideshow": {
     "slide_type": "slide"
    }
   },
   "source": [
    "## Use your red sticker if you get stuck, so that one of the tutors can help you."
   ]
  },
  {
   "cell_type": "code",
   "execution_count": 29,
   "metadata": {
    "collapsed": true,
    "slideshow": {
     "slide_type": "fragment"
    }
   },
   "outputs": [],
   "source": [
    "g1 = np.random.normal(9.81,0.2, 50)"
   ]
  },
  {
   "cell_type": "code",
   "execution_count": 30,
   "metadata": {
    "collapsed": true
   },
   "outputs": [],
   "source": [
    "g2 = np.random.normal(9.2,0.6, 50)"
   ]
  },
  {
   "cell_type": "code",
   "execution_count": 31,
   "metadata": {
    "collapsed": true
   },
   "outputs": [],
   "source": [
    "g3 = np.random.normal(9.81, 0.02, 50)"
   ]
  },
  {
   "cell_type": "code",
   "execution_count": 32,
   "metadata": {
    "collapsed": true
   },
   "outputs": [],
   "source": [
    "np.savetxt('gravity.csv', np.column_stack((g1,g2,g3)))"
   ]
  },
  {
   "cell_type": "code",
   "execution_count": 11,
   "metadata": {
    "collapsed": true
   },
   "outputs": [],
   "source": [
    "data = np.random.poisson(10, 1000)"
   ]
  },
  {
   "cell_type": "code",
   "execution_count": 12,
   "metadata": {
    "collapsed": true
   },
   "outputs": [
    {
     "data": {
      "text/plain": [
       "<matplotlib.axes._subplots.AxesSubplot at 0x120248450>"
      ]
     },
     "execution_count": 12,
     "metadata": {},
     "output_type": "execute_result"
    },
    {
     "data": {
      "image/png": "[encoded data removed]",
      "text/plain": [
       "<Figure size 432x288 with 1 Axes>"
      ]
     },
     "metadata": {
      "needs_background": "light"
     },
     "output_type": "display_data"
    }
   ],
   "source": [
    "sbn.distplot(data, bins = 50)"
   ]
  },
  {
   "cell_type": "markdown",
   "metadata": {},
   "source": [
    "> ## Slicing concepts\n",
    ">\n",
    "> 1.  What does `thing[low:high]` do?\n",
    "> 2.  What does `thing[low:]` (without a value after the colon) do?\n",
    "> 3.  What does `thing[:high]` (without a value before the colon) do?\n",
    "> 4.  What does `thing[:]` (just a colon) do?\n",
    "> 5.  What does `thing[number:some-negative-number]` do?\n",
    "> 6.  What happens when you choose a `high` value which is out of range? (i.e., try `atom_name[0:15]`) \n",
    ">\n",
    "> > ## Solutions\n",
    "> >\n",
    "> > 1. `thing[low:high]` returns a slice from `low` to the value before `high`\n",
    "> > 2. `thing[low:]` returns a slice from `low` all the way to the end of `thing`\n",
    "> > 3. `thing[:high]` returns a slice from the beginning of `thing` to the value before `high`\n",
    "> > 4. `thing[:]` returns all of `thing`\n",
    "> > 5. `thing[number:some-negative-number]` returns a slice from `number` to `some-negative-number` values from the end of `thing`\n",
    "> > 6. If a part of the slice is out of range, the operation does not fail. `atom_name[0:15]` gives the same result as `atom_name[0:]`.\n",
    "> {: .solution}\n",
    "{: .challenge}"
   ]
  },
  {
   "cell_type": "code",
   "execution_count": null,
   "metadata": {
    "collapsed": true
   },
   "outputs": [],
   "source": []
  }
 ],
 "metadata": {
  "celltoolbar": "Slideshow",
  "kernelspec": {
   "display_name": "Python 3",
   "language": "python",
   "name": "python3"
  },
  "language_info": {
   "codemirror_mode": {
    "name": "ipython",
    "version": 3
   },
   "file_extension": ".py",
   "mimetype": "text/x-python",
   "name": "python",
   "nbconvert_exporter": "python",
   "pygments_lexer": "ipython3",
   "version": "3.7.6"
  }
 },
 "nbformat": 4,
 "nbformat_minor": 4
}
